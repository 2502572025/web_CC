{
 "cells": [
  {
   "cell_type": "code",
   "execution_count": 7,
   "metadata": {
    "collapsed": true
   },
   "outputs": [],
   "source": [
    "from PIL import Image\n",
    "import numpy as np\n",
    "\n",
    "# display plots in this notebook\n",
    "%matplotlib inline\n",
    "\n",
    "im_1 = Image.open('bear/00000.jpg')\n",
    "im_1.show()"
   ]
  },
  {
   "cell_type": "code",
   "execution_count": 11,
   "metadata": {
    "collapsed": true
   },
   "outputs": [],
   "source": [
    "im_2 = Image.open('bear/00060.jpg')\n",
    "im_2.show()"
   ]
  },
  {
   "cell_type": "code",
   "execution_count": 12,
   "metadata": {
    "collapsed": false
   },
   "outputs": [
    {
     "name": "stdout",
     "output_type": "stream",
     "text": [
      "[[[  42.   37.   34.]\n",
      "  [  58.   53.   50.]\n",
      "  [  64.   59.   56.]\n",
      "  ..., \n",
      "  [ 126.  135.  114.]\n",
      "  [ 133.  141.  118.]\n",
      "  [ 153.  158.  136.]]\n",
      "\n",
      " [[  39.   34.   31.]\n",
      "  [  53.   48.   45.]\n",
      "  [  62.   57.   54.]\n",
      "  ..., \n",
      "  [ 132.  141.  124.]\n",
      "  [ 147.  154.  136.]\n",
      "  [ 128.  133.  113.]]\n",
      "\n",
      " [[  37.   32.   29.]\n",
      "  [  46.   41.   38.]\n",
      "  [  57.   52.   49.]\n",
      "  ..., \n",
      "  [ 139.  147.  132.]\n",
      "  [  93.   99.   85.]\n",
      "  [  74.   78.   63.]]\n",
      "\n",
      " ..., \n",
      " [[ 188.  173.  168.]\n",
      "  [ 199.  185.  182.]\n",
      "  [ 196.  185.  183.]\n",
      "  ..., \n",
      "  [  68.   71.   62.]\n",
      "  [  64.   67.   58.]\n",
      "  [  59.   62.   53.]]\n",
      "\n",
      " [[ 192.  177.  170.]\n",
      "  [ 211.  198.  192.]\n",
      "  [ 214.  203.  199.]\n",
      "  ..., \n",
      "  [  65.   68.   57.]\n",
      "  [  64.   67.   56.]\n",
      "  [  62.   65.   54.]]\n",
      "\n",
      " [[ 208.  191.  184.]\n",
      "  [ 208.  193.  188.]\n",
      "  [ 193.  182.  178.]\n",
      "  ..., \n",
      "  [  65.   69.   55.]\n",
      "  [  67.   71.   56.]\n",
      "  [  67.   71.   56.]]]\n"
     ]
    },
    {
     "data": {
      "text/plain": [
       "(480L, 854L, 3L)"
      ]
     },
     "execution_count": 12,
     "metadata": {},
     "output_type": "execute_result"
    }
   ],
   "source": [
    "in_1 = np.array(im_1, dtype=np.float32)\n",
    "print in_1\n",
    "in_1.shape"
   ]
  },
  {
   "cell_type": "code",
   "execution_count": 15,
   "metadata": {
    "collapsed": false
   },
   "outputs": [
    {
     "name": "stdout",
     "output_type": "stream",
     "text": [
      "[[[  28.   23.   19.]\n",
      "  [  28.   23.   19.]\n",
      "  [  29.   24.   20.]\n",
      "  ..., \n",
      "  [  99.   96.  103.]\n",
      "  [ 102.   97.  103.]\n",
      "  [  93.   88.   92.]]\n",
      "\n",
      " [[  28.   23.   19.]\n",
      "  [  27.   22.   18.]\n",
      "  [  29.   24.   20.]\n",
      "  ..., \n",
      "  [ 101.   98.  105.]\n",
      "  [  96.   91.   97.]\n",
      "  [  85.   80.   84.]]\n",
      "\n",
      " [[  29.   24.   20.]\n",
      "  [  28.   23.   19.]\n",
      "  [  30.   25.   21.]\n",
      "  ..., \n",
      "  [  93.   92.   98.]\n",
      "  [  77.   74.   81.]\n",
      "  [  65.   63.   68.]]\n",
      "\n",
      " ..., \n",
      " [[  42.   41.   21.]\n",
      "  [  66.   65.   45.]\n",
      "  [  78.   75.   56.]\n",
      "  ..., \n",
      "  [  45.   38.   30.]\n",
      "  [  47.   40.   32.]\n",
      "  [  46.   39.   31.]]\n",
      "\n",
      " [[  54.   53.   33.]\n",
      "  [  71.   70.   50.]\n",
      "  [  74.   71.   52.]\n",
      "  ..., \n",
      "  [  52.   45.   37.]\n",
      "  [  49.   42.   34.]\n",
      "  [  41.   34.   26.]]\n",
      "\n",
      " [[  56.   58.   36.]\n",
      "  [  66.   65.   44.]\n",
      "  [  85.   82.   63.]\n",
      "  ..., \n",
      "  [  54.   47.   39.]\n",
      "  [  49.   42.   34.]\n",
      "  [  40.   33.   25.]]]\n"
     ]
    },
    {
     "data": {
      "text/plain": [
       "(480L, 854L, 3L)"
      ]
     },
     "execution_count": 15,
     "metadata": {},
     "output_type": "execute_result"
    }
   ],
   "source": [
    "in_2 = np.array(im_2, dtype=np.float32)\n",
    "print in_2\n",
    "in_2.shape"
   ]
  },
  {
   "cell_type": "code",
   "execution_count": 39,
   "metadata": {
    "collapsed": false
   },
   "outputs": [],
   "source": [
    "in_3 = np.dstack([in_1, in_2])"
   ]
  },
  {
   "cell_type": "code",
   "execution_count": 40,
   "metadata": {
    "collapsed": false
   },
   "outputs": [
    {
     "data": {
      "text/plain": [
       "(480L, 854L, 6L)"
      ]
     },
     "execution_count": 40,
     "metadata": {},
     "output_type": "execute_result"
    }
   ],
   "source": [
    "in_3.shape"
   ]
  },
  {
   "cell_type": "code",
   "execution_count": 45,
   "metadata": {
    "collapsed": false
   },
   "outputs": [
    {
     "name": "stdout",
     "output_type": "stream",
     "text": [
      "[[[  37.   19.]\n",
      "  [  53.   19.]\n",
      "  [  59.   20.]\n",
      "  ..., \n",
      "  [ 135.  103.]\n",
      "  [ 141.  103.]\n",
      "  [ 158.   92.]]\n",
      "\n",
      " [[  34.   19.]\n",
      "  [  48.   18.]\n",
      "  [  57.   20.]\n",
      "  ..., \n",
      "  [ 141.  105.]\n",
      "  [ 154.   97.]\n",
      "  [ 133.   84.]]\n",
      "\n",
      " [[  32.   20.]\n",
      "  [  41.   19.]\n",
      "  [  52.   21.]\n",
      "  ..., \n",
      "  [ 147.   98.]\n",
      "  [  99.   81.]\n",
      "  [  78.   68.]]\n",
      "\n",
      " ..., \n",
      " [[ 173.   21.]\n",
      "  [ 185.   45.]\n",
      "  [ 185.   56.]\n",
      "  ..., \n",
      "  [  71.   30.]\n",
      "  [  67.   32.]\n",
      "  [  62.   31.]]\n",
      "\n",
      " [[ 177.   33.]\n",
      "  [ 198.   50.]\n",
      "  [ 203.   52.]\n",
      "  ..., \n",
      "  [  68.   37.]\n",
      "  [  67.   34.]\n",
      "  [  65.   26.]]\n",
      "\n",
      " [[ 191.   36.]\n",
      "  [ 193.   44.]\n",
      "  [ 182.   63.]\n",
      "  ..., \n",
      "  [  69.   39.]\n",
      "  [  71.   34.]\n",
      "  [  71.   25.]]]\n"
     ]
    }
   ],
   "source": [
    "in_3 = np.dstack([in_1[:,:,1], in_2[:,:,2]])\n",
    "print in_3"
   ]
  },
  {
   "cell_type": "code",
   "execution_count": 46,
   "metadata": {
    "collapsed": false
   },
   "outputs": [
    {
     "name": "stdout",
     "output_type": "stream",
     "text": [
      "[[[  19.   37.]\n",
      "  [  19.   53.]\n",
      "  [  20.   59.]\n",
      "  ..., \n",
      "  [ 103.  135.]\n",
      "  [ 103.  141.]\n",
      "  [  92.  158.]]\n",
      "\n",
      " [[  19.   34.]\n",
      "  [  18.   48.]\n",
      "  [  20.   57.]\n",
      "  ..., \n",
      "  [ 105.  141.]\n",
      "  [  97.  154.]\n",
      "  [  84.  133.]]\n",
      "\n",
      " [[  20.   32.]\n",
      "  [  19.   41.]\n",
      "  [  21.   52.]\n",
      "  ..., \n",
      "  [  98.  147.]\n",
      "  [  81.   99.]\n",
      "  [  68.   78.]]\n",
      "\n",
      " ..., \n",
      " [[  21.  173.]\n",
      "  [  45.  185.]\n",
      "  [  56.  185.]\n",
      "  ..., \n",
      "  [  30.   71.]\n",
      "  [  32.   67.]\n",
      "  [  31.   62.]]\n",
      "\n",
      " [[  33.  177.]\n",
      "  [  50.  198.]\n",
      "  [  52.  203.]\n",
      "  ..., \n",
      "  [  37.   68.]\n",
      "  [  34.   67.]\n",
      "  [  26.   65.]]\n",
      "\n",
      " [[  36.  191.]\n",
      "  [  44.  193.]\n",
      "  [  63.  182.]\n",
      "  ..., \n",
      "  [  39.   69.]\n",
      "  [  34.   71.]\n",
      "  [  25.   71.]]]\n"
     ]
    }
   ],
   "source": [
    "print in_3[:,:,::-1]"
   ]
  },
  {
   "cell_type": "code",
   "execution_count": null,
   "metadata": {
    "collapsed": true
   },
   "outputs": [],
   "source": []
  }
 ],
 "metadata": {
  "kernelspec": {
   "display_name": "Python 2",
   "language": "python",
   "name": "python2"
  },
  "language_info": {
   "codemirror_mode": {
    "name": "ipython",
    "version": 2
   },
   "file_extension": ".py",
   "mimetype": "text/x-python",
   "name": "python",
   "nbconvert_exporter": "python",
   "pygments_lexer": "ipython2",
   "version": "2.7.5"
  }
 },
 "nbformat": 4,
 "nbformat_minor": 2
}
